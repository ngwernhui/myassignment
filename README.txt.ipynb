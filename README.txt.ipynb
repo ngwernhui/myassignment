{
 "cells": [
  {
   "cell_type": "markdown",
   "id": "121a7bee",
   "metadata": {},
   "source": [
    "# Finance and Accounting Courses in Udemy (2010-2020)\n",
    "--------------------------------------------------------------------------------\n",
    "\n",
    "## Introduction \n",
    "> Udemy,Inc is an American massive open online course (MOOC) provider for professional adults and students. With certification provided towards the completion of a course, Udemy has attracted students or employees who seek to improve job-related skills. As of 2021, there are more than 155,000 courses on the website and over 480 million course enrollments (\"Udemy\", 2021).\n",
    "\n",
    "However, most enterprises face an existential threat since the COVID-19 pandemic. Approximately 3.3 billion global workface are at risk of losing their livelihoods (Chriskade, 2020). The workforce has become increasingly competitive. While there is an increase in subscribing courses that can improve technical or soft skills, this pandemic has also shaped the attitudes and behaviours of financial decisions made by an individual.\n",
    "\n",
    "## Overview\n",
    "This dataset is a compilation of all the development related courses ( 13 thousand courses) which are available on Udemy's website. Under the development category, there are courses from Finance, Accounting, Book Keeping, Compliance, Cryptocurrence, Blockchain, Economics, Investing & Trading, Taxes and much more each having multiple courses under it's domain.\n",
    "\n",
    "This dataset can be retrieved from https://www.kaggle.com/jilkothari/finance-accounting-courses-udemy-13k-course\n",
    "\n",
    "***"
   ]
  },
  {
   "cell_type": "markdown",
   "id": "476ae963",
   "metadata": {},
   "source": [
    "Before diving into the dataset, here are the definitions for each column name:\n",
    "- id : The course ID of that particular course.\n",
    "- title : Shows the unique names of the courses available under the development category on Udemy.\n",
    "- url: Gives the URL of the course.\n",
    "- is_paid : Returns a boolean value displaying true if the course is paid and false if otherwise.\n",
    "- num_subscribers : Shows the number of people who have subscribed that course.\n",
    "- avg_rating : Shows the average rating of the course.\n",
    "- avg rating recent : Reflects the recent changes in the average rating.\n",
    "- num_reviews : Gives us an idea related to the number of ratings that a course has received.\n",
    "- num_ published_lectures : Shows the number of lectures the course offers.\n",
    "- num_ published_ practice_tests : Gives an idea of the number of practice tests that a course offers.\n",
    "- created : The time of creation of the course.\n",
    "- published_time : Time of publishing the course.\n",
    "- discounted_ price_amount : The discounted price which a certain course is being offered at.\n",
    "- discounted_ price_currency : The currency corresponding to the discounted price which a certain course is being offered at.\n",
    "- price_ detail_amount : The original price of a particular course.\n",
    "- price_ detail_currency : The currency corresponding to the price detail amount for a course.\n",
    "\n",
    "***"
   ]
  },
  {
   "cell_type": "markdown",
   "id": "7087f51f",
   "metadata": {},
   "source": [
    "## Purpose\n",
    "With the growth of interest in accounting and finance related courses to be financially literate, we look into the overall growth in these courses offered by Udemy from 2010 to 2020.\n",
    "\n",
    "Below is an overview of the content of the notebook.\n",
    "\n",
    "### List of Content\n",
    "1. Data Exploration\n",
    "2. Data Cleaning\n",
    "3. Exploratory Analysis and Visualization\n",
    "4. Real-life Implication\n",
    "5. Key Takeaway"
   ]
  },
  {
   "cell_type": "markdown",
   "id": "986b8874",
   "metadata": {},
   "source": [
    "### Questions about the data\n",
    "Below are few questions that we hope to answer once data analysis is completed:\n",
    "\n",
    "- Did the number of finance and accounting courses increase within these 10 years (2010-2020)?\n",
    "- What are the possible real-life implication based on the insights found?\n",
    "- Must instructors create a large number of lectures in order to increase their course enrollment rate?\n",
    "- Does the price of courses affect the number of subscribers?"
   ]
  }
 ],
 "metadata": {
  "kernelspec": {
   "display_name": "Python 3",
   "language": "python",
   "name": "python3"
  },
  "language_info": {
   "codemirror_mode": {
    "name": "ipython",
    "version": 3
   },
   "file_extension": ".py",
   "mimetype": "text/x-python",
   "name": "python",
   "nbconvert_exporter": "python",
   "pygments_lexer": "ipython3",
   "version": "3.8.8"
  }
 },
 "nbformat": 4,
 "nbformat_minor": 5
}
